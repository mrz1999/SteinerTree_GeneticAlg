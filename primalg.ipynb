{
 "cells": [
  {
   "cell_type": "code",
   "execution_count": 1,
   "metadata": {},
   "outputs": [],
   "source": [
    "import random\n",
    "import matplotlib.pyplot as plt"
   ]
  },
  {
   "cell_type": "code",
   "execution_count": 2,
   "metadata": {},
   "outputs": [
    {
     "name": "stdout",
     "output_type": "stream",
     "text": [
      "vertices =  [[0.9172701705954721, 0.22640967387765354], [0.8805815816563313, 0.015853210662760353], [0.254309609514477, 0.49692111250906434], [0.5616934318332278, 0.16140159901560347], [0.8046558658015565, 0.07225053872846099], [0.5095073723768635, 0.5926520500313199], [0.3255919840106628, 0.5767866350571912], [0.23499307454496754, 0.11171609387370529], [0.43680217782591346, 0.9083408424226356], [0.5525270967975157, 0.857068524588644]]\n"
     ]
    },
    {
     "data": {
      "text/plain": [
       "<matplotlib.collections.PathCollection at 0x1d107861900>"
      ]
     },
     "execution_count": 2,
     "metadata": {},
     "output_type": "execute_result"
    },
    {
     "data": {
      "image/png": "[encoded data removed]",
      "text/plain": [
       "<Figure size 432x288 with 1 Axes>"
      ]
     },
     "metadata": {
      "needs_background": "light"
     },
     "output_type": "display_data"
    }
   ],
   "source": [
    "# create and plot the points in the [0,1] x [0,1] plane\n",
    "n_points = 10\n",
    "vertices = []\n",
    "for i in range(n_points):\n",
    "    point = [0,0]\n",
    "    point[0] = random.random()\n",
    "    point[1] = random.random()\n",
    "    vertices.append(point)\n",
    "print(\"vertices = \",vertices)\n",
    "plt.scatter(*zip(*vertices))"
   ]
  },
  {
   "cell_type": "code",
   "execution_count": 3,
   "metadata": {},
   "outputs": [],
   "source": [
    "# function for the evaluation of the distance between two points\n",
    "def distance(self, other):\n",
    "        return (self[0] - other[0])**2 + (self[1] - other[1])**2"
   ]
  },
  {
   "cell_type": "code",
   "execution_count": 4,
   "metadata": {},
   "outputs": [],
   "source": [
    "# Prim's algorithm\n",
    "remaining_points = vertices.copy()                        # list of points not yet in the mst (all points at this stage)\n",
    "mst = []                                                  # list of the points in the mst (empty list at this stage)\n",
    "connections = []                                          # list of containing pairs of connected points and ther respective distance\n",
    "source = random.choice(remaining_points)                  # at start a random point is selected\n",
    "remaining_points.remove(source)                           # the first point is removed from remaining_points\n",
    "mst.append(source)                                        # the first point is inserted into mst\n",
    "\n",
    "while remaining_points:                                   \n",
    "    outer_min = 2                                         # at each iteration,for each point in mst, the distance between itself and \n",
    "    for selected in mst:                                  # every point in remaining_points is calculated, then the point in \n",
    "        min = 2                                           # remaining_points closest to it is saved as the best next point to include;\n",
    "        for possible in remaining_points:                 # we then compare the closest point found of each point in mst and the final\n",
    "            d = distance(selected, possible)              # point chosen will be the one which distance from its corresponding point\n",
    "            if d < min:                                   # in mst is the lowest\n",
    "                min = d\n",
    "                new_point = possible\n",
    "        if min < outer_min:\n",
    "            outer_min = min\n",
    "            final_b = new_point\n",
    "            final_a = selected\n",
    "    mst.append(final_b)                                   # the final next point is added to mst\n",
    "    \n",
    "    connections.append([final_a, final_b, outer_min])     # the final next point, its correspondent previous one and their distance are saved \n",
    "                                                          # in connections\n",
    "    \n",
    "    remaining_points.remove(final_b)                      # the final next point is removed from remaining_points\n",
    "\n",
    "    # the process is repeated until there are not anymore elements in remaining_points"
   ]
  },
  {
   "cell_type": "code",
   "execution_count": 5,
   "metadata": {},
   "outputs": [
    {
     "name": "stdout",
     "output_type": "stream",
     "text": [
      "mst =  [[0.8805815816563313, 0.015853210662760353], [0.8046558658015565, 0.07225053872846099], [0.9172701705954721, 0.22640967387765354], [0.5616934318332278, 0.16140159901560347], [0.23499307454496754, 0.11171609387370529], [0.254309609514477, 0.49692111250906434], [0.3255919840106628, 0.5767866350571912], [0.5095073723768635, 0.5926520500313199], [0.5525270967975157, 0.857068524588644], [0.43680217782591346, 0.9083408424226356]]\n",
      "\n",
      "\n",
      "vertices =  [[0.9172701705954721, 0.22640967387765354], [0.8805815816563313, 0.015853210662760353], [0.254309609514477, 0.49692111250906434], [0.5616934318332278, 0.16140159901560347], [0.8046558658015565, 0.07225053872846099], [0.5095073723768635, 0.5926520500313199], [0.3255919840106628, 0.5767866350571912], [0.23499307454496754, 0.11171609387370529], [0.43680217782591346, 0.9083408424226356], [0.5525270967975157, 0.857068524588644]]\n",
      "\n",
      "\n",
      "connections =  [[[0.8805815816563313, 0.015853210662760353], [0.8046558658015565, 0.07225053872846099], 0.008945372941010268], [[0.8046558658015565, 0.07225053872846099], [0.9172701705954721, 0.22640967387765354], 0.036447020594163944], [[0.8046558658015565, 0.07225053872846099], [0.5616934318332278, 0.16140159901560347], 0.06697865587013616], [[0.5616934318332278, 0.16140159901560347], [0.23499307454496754, 0.11171609387370529], 0.10920177287348252], [[0.23499307454496754, 0.11171609387370529], [0.254309609514477, 0.49692111250906434], 0.14875603490509562], [[0.254309609514477, 0.49692111250906434], [0.3255919840106628, 0.5767866350571912], 0.011459678605699837], [[0.3255919840106628, 0.5767866350571912], [0.5095073723768635, 0.5926520500313199], 0.03407658147019174], [[0.5095073723768635, 0.5926520500313199], [0.5525270967975157, 0.857068524588644], 0.07176676870655287], [[0.5525270967975157, 0.857068524588644], [0.43680217782591346, 0.9083408424226356], 0.01602110744705374]]\n"
     ]
    }
   ],
   "source": [
    "# print the three lists just to make sure everithing worked fine (mst and vertices should have the same elements)\n",
    "print(\"mst = \",mst)\n",
    "print(\"\\n\")\n",
    "print(\"vertices = \",vertices)\n",
    "print(\"\\n\")\n",
    "print(\"connections = \",connections)"
   ]
  },
  {
   "cell_type": "code",
   "execution_count": 6,
   "metadata": {},
   "outputs": [
    {
     "name": "stdout",
     "output_type": "stream",
     "text": [
      "pairs of connected nodes =  [[[0.8805815816563313, 0.015853210662760353], [0.8046558658015565, 0.07225053872846099]], [[0.8046558658015565, 0.07225053872846099], [0.9172701705954721, 0.22640967387765354]], [[0.8046558658015565, 0.07225053872846099], [0.5616934318332278, 0.16140159901560347]], [[0.5616934318332278, 0.16140159901560347], [0.23499307454496754, 0.11171609387370529]], [[0.23499307454496754, 0.11171609387370529], [0.254309609514477, 0.49692111250906434]], [[0.254309609514477, 0.49692111250906434], [0.3255919840106628, 0.5767866350571912]], [[0.3255919840106628, 0.5767866350571912], [0.5095073723768635, 0.5926520500313199]], [[0.5095073723768635, 0.5926520500313199], [0.5525270967975157, 0.857068524588644]], [[0.5525270967975157, 0.857068524588644], [0.43680217782591346, 0.9083408424226356]]]\n",
      "\n",
      "\n",
      "distances =  [0.008945372941010268, 0.036447020594163944, 0.06697865587013616, 0.10920177287348252, 0.14875603490509562, 0.011459678605699837, 0.03407658147019174, 0.07176676870655287, 0.01602110744705374]\n"
     ]
    }
   ],
   "source": [
    "# still temporary cell; connections is split in list of pairs of points (nodes to be connected) and list of corresponding weights\n",
    "temp = []\n",
    "for i in connections:\n",
    "    temp.append([i[0],i[1]])\n",
    "distances = []\n",
    "print(\"pairs of connected nodes = \",temp)\n",
    "print(\"\\n\")\n",
    "for i in temp:\n",
    "    distances.append(distance(i[0],i[1]))\n",
    "print(\"distances = \",distances)"
   ]
  },
  {
   "cell_type": "code",
   "execution_count": 7,
   "metadata": {},
   "outputs": [
    {
     "data": {
      "text/plain": [
       "<function matplotlib.pyplot.show(close=None, block=None)>"
      ]
     },
     "execution_count": 7,
     "metadata": {},
     "output_type": "execute_result"
    },
    {
     "data": {
      "image/png": "[encoded data removed]",
      "text/plain": [
       "<Figure size 432x288 with 1 Axes>"
      ]
     },
     "metadata": {
      "needs_background": "light"
     },
     "output_type": "display_data"
    }
   ],
   "source": [
    "# the pairs of connected points are plotted with their corresponding connection, the final mst is formed\n",
    "for pair in temp:\n",
    "    plt.plot(*zip(*pair), \"ro-\")\n",
    "plt.show"
   ]
  }
 ],
 "metadata": {
  "kernelspec": {
   "display_name": "Python 3.10.2 64-bit",
   "language": "python",
   "name": "python3"
  },
  "language_info": {
   "codemirror_mode": {
    "name": "ipython",
    "version": 3
   },
   "file_extension": ".py",
   "mimetype": "text/x-python",
   "name": "python",
   "nbconvert_exporter": "python",
   "pygments_lexer": "ipython3",
   "version": "3.10.2"
  },
  "orig_nbformat": 4,
  "vscode": {
   "interpreter": {
    "hash": "0f2f6c680cf484319d387fabac80ca4ff4fc33965036e02100b3fe02600f1423"
   }
  }
 },
 "nbformat": 4,
 "nbformat_minor": 2
}
