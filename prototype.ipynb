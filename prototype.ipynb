{
 "cells": [
  {
   "cell_type": "code",
   "execution_count": 95,
   "metadata": {},
   "outputs": [],
   "source": [
    "import random\n",
    "import numpy\n",
    "from deap import base, creator, tools\n",
    "import matplotlib.pyplot as plt\n",
    "import math\n",
    "\n",
    "from functions1 import *"
   ]
  },
  {
   "cell_type": "code",
   "execution_count": 96,
   "metadata": {},
   "outputs": [],
   "source": [
    "# generate random points\n",
    "n_fixed_points = 10\n",
    "fixed_vertices = []\n",
    "for i in range(n_fixed_points):\n",
    "    point = [0,0]\n",
    "    #random.seed(i+8) # for the last 6 vertices graph\n",
    "    random.seed(i+28)\n",
    "    point[0] = random.random()\n",
    "    point[1] = random.random()\n",
    "    fixed_vertices.append(point)\n",
    "#fixed_vertices"
   ]
  },
  {
   "cell_type": "code",
   "execution_count": 97,
   "metadata": {},
   "outputs": [
    {
     "name": "stderr",
     "output_type": "stream",
     "text": [
      "c:\\Users\\MARIELLA\\anaconda3\\lib\\site-packages\\deap\\creator.py:138: RuntimeWarning: A class named 'FitnessMin' has already been created and it will be overwritten. Consider deleting previous creation of that class or rename it.\n",
      "  warnings.warn(\"A class named '{0}' has already been created and it \"\n",
      "c:\\Users\\MARIELLA\\anaconda3\\lib\\site-packages\\deap\\creator.py:138: RuntimeWarning: A class named 'Individual' has already been created and it will be overwritten. Consider deleting previous creation of that class or rename it.\n",
      "  warnings.warn(\"A class named '{0}' has already been created and it \"\n"
     ]
    }
   ],
   "source": [
    "# Creating Classes\n",
    "creator.create('FitnessMin', base.Fitness, weights=(-1.0,))\n",
    "creator.create('Individual', list, fitness=creator.FitnessMin)"
   ]
  },
  {
   "cell_type": "code",
   "execution_count": 98,
   "metadata": {},
   "outputs": [],
   "source": [
    "#IND_SIZE = 2 * (n_fixed_points//2)\n",
    "IND_SIZE = 2 * (n_fixed_points - 2)\n",
    "TOURN_SIZE = 10\n",
    "\n",
    "toolbox = base.Toolbox()\n",
    "toolbox.register('attr_float', lambda: random.random())\n",
    "\n",
    "# Individuals\n",
    "toolbox.register('individual', tools.initRepeat, creator.Individual, toolbox.attr_float, n=IND_SIZE) \n",
    "\n",
    "# Population\n",
    "toolbox.register('population', tools.initRepeat, list, toolbox.individual)\n",
    "\n",
    "### Operators ###\n",
    "\n",
    "# Crossover\n",
    "toolbox.register('mate', tools.cxBlend, alpha=0.5)\n",
    "\n",
    "# Mutation\n",
    "toolbox.register('mutate', tools.mutGaussian, mu=0, sigma=0.3)\n",
    "\n",
    "# Selection\n",
    "toolbox.register('select', tools.selTournament, tournsize=TOURN_SIZE)\n",
    "toolbox.register('select_r', tools.selRoulette)\n",
    "\n",
    "# Evaluation\n",
    "toolbox.register('evaluation', evaluation)"
   ]
  },
  {
   "cell_type": "code",
   "execution_count": 99,
   "metadata": {},
   "outputs": [],
   "source": [
    "#Statistical Features\n",
    "stats = tools.Statistics(key=lambda ind: ind.fitness.values)\n",
    "stats.register(\"avg\", numpy.mean)\n",
    "stats.register(\"std\", numpy.std)\n",
    "stats.register(\"min\", numpy.min)\n",
    "stats.register(\"max\", numpy.max)\n"
   ]
  },
  {
   "cell_type": "code",
   "execution_count": 100,
   "metadata": {},
   "outputs": [],
   "source": [
    "def GA(POP_SIZE, CXPB, MUTPB, NGEN, stats):\n",
    "    #Defininf Hall of Fame\n",
    "    hof = tools.HallOfFame(1)\n",
    "    \n",
    "    #Creating the population\n",
    "    pop = toolbox.population(n=POP_SIZE)\n",
    "    #print(pop)\n",
    "\n",
    "    #Defining the Logbook\n",
    "    logbook = tools.Logbook()\n",
    "    logbook.header = [\"gen\", \"nevals\"] + (stats.fields if stats else[])\n",
    "\n",
    "    #Evaluate the entire population\n",
    "    temp_fixed_vertices = duplicate_fixverts(fixed_vertices, POP_SIZE)\n",
    "    fitness = list(map(toolbox.evaluation, pop, temp_fixed_vertices))\n",
    "    for ind, fit in zip(pop, fitness):\n",
    "        ind.fitness.values = [fit]\n",
    "\n",
    "\n",
    "    hof.update(pop) if stats else {}\n",
    "\n",
    "    record = stats.compile(pop) if stats else {}\n",
    "    logbook.record(gen=0, nevals=len(pop), **record)\n",
    "    \n",
    "\n",
    "    for g in range(NGEN):\n",
    "        #print('Generation Number ', g, 'Population ', pop)\n",
    "        print(\"Generatioin Number \", g)\n",
    "        #Select the next generation individuals\n",
    "        #offspring = toolbox.select_r(pop, len(pop))\n",
    "        offspring = toolbox.select(pop, len(pop))\n",
    "        \n",
    "        #Clone the selected individuals\n",
    "        offspring = list(map(toolbox.clone, offspring))\n",
    "\n",
    "        #Apply crossover and mutation on the offspring\n",
    "        for child1, child2 in zip(offspring[::2],offspring[1::2]):\n",
    "            if random.random() < CXPB:\n",
    "                toolbox.mate(child1,child2)\n",
    "                del child1.fitness.values\n",
    "                del child2.fitness.values\n",
    "\n",
    "        for mutant in offspring:\n",
    "            if random.random() < MUTPB:\n",
    "                toolbox.mutate(mutant, indpb=0.5)\n",
    "                del mutant.fitness.values\n",
    "\n",
    "        #Evaluate the individuals with an invalid fitness\n",
    "        invalid_ind = [ind for ind in offspring if not ind.fitness.valid]\n",
    "        fitness = list(map(toolbox.evaluation, invalid_ind, temp_fixed_vertices))\n",
    "        for ind, fit in zip(invalid_ind, fitness):\n",
    "            ind.fitness.values = [fit]\n",
    "\n",
    "        if hof is not None:\n",
    "            hof.update(offspring)\n",
    "            #print(hof)\n",
    "\n",
    "        #The population in entirely replaced by the offspring\n",
    "        pop[:] = tools.selBest(offspring, POP_SIZE-1)\n",
    "        pop.append(hof[0])\n",
    "\n",
    "        record = stats.compile(pop) if stats else{}\n",
    "        #print(record)\n",
    "        logbook.record(gen=g+1, nevals=len(invalid_ind), **record)\n",
    "        \n",
    "\n",
    "    return pop, logbook, hof"
   ]
  },
  {
   "cell_type": "code",
   "execution_count": 101,
   "metadata": {},
   "outputs": [
    {
     "name": "stdout",
     "output_type": "stream",
     "text": [
      "Generatioin Number  0\n",
      "Generatioin Number  1\n",
      "Generatioin Number  2\n",
      "Generatioin Number  3\n",
      "Generatioin Number  4\n",
      "Generatioin Number  5\n",
      "Generatioin Number  6\n",
      "Generatioin Number  7\n",
      "Generatioin Number  8\n",
      "Generatioin Number  9\n",
      "Generatioin Number  10\n",
      "Generatioin Number  11\n",
      "Generatioin Number  12\n",
      "Generatioin Number  13\n",
      "Generatioin Number  14\n",
      "Generatioin Number  15\n",
      "Generatioin Number  16\n",
      "Generatioin Number  17\n",
      "Generatioin Number  18\n",
      "Generatioin Number  19\n",
      "Generatioin Number  20\n",
      "Generatioin Number  21\n",
      "Generatioin Number  22\n",
      "Generatioin Number  23\n",
      "Generatioin Number  24\n",
      "Generatioin Number  25\n",
      "Generatioin Number  26\n",
      "Generatioin Number  27\n",
      "Generatioin Number  28\n",
      "Generatioin Number  29\n",
      "Generatioin Number  30\n",
      "Generatioin Number  31\n",
      "Generatioin Number  32\n",
      "Generatioin Number  33\n",
      "Generatioin Number  34\n",
      "Generatioin Number  35\n",
      "Generatioin Number  36\n",
      "Generatioin Number  37\n",
      "Generatioin Number  38\n",
      "Generatioin Number  39\n",
      "Generatioin Number  40\n",
      "Generatioin Number  41\n",
      "Generatioin Number  42\n",
      "Generatioin Number  43\n",
      "Generatioin Number  44\n",
      "Generatioin Number  45\n",
      "Generatioin Number  46\n",
      "Generatioin Number  47\n",
      "Generatioin Number  48\n",
      "Generatioin Number  49\n",
      "Generatioin Number  50\n",
      "Generatioin Number  51\n",
      "Generatioin Number  52\n",
      "Generatioin Number  53\n",
      "Generatioin Number  54\n",
      "Generatioin Number  55\n",
      "Generatioin Number  56\n",
      "Generatioin Number  57\n",
      "Generatioin Number  58\n",
      "Generatioin Number  59\n",
      "Generatioin Number  60\n",
      "Generatioin Number  61\n",
      "Generatioin Number  62\n",
      "Generatioin Number  63\n",
      "Generatioin Number  64\n",
      "Generatioin Number  65\n",
      "Generatioin Number  66\n",
      "Generatioin Number  67\n",
      "Generatioin Number  68\n",
      "Generatioin Number  69\n",
      "Generatioin Number  70\n",
      "Generatioin Number  71\n",
      "Generatioin Number  72\n",
      "Generatioin Number  73\n",
      "Generatioin Number  74\n",
      "Generatioin Number  75\n",
      "Generatioin Number  76\n",
      "Generatioin Number  77\n",
      "Generatioin Number  78\n",
      "Generatioin Number  79\n",
      "Generatioin Number  80\n",
      "Generatioin Number  81\n",
      "Generatioin Number  82\n",
      "Generatioin Number  83\n",
      "Generatioin Number  84\n",
      "Generatioin Number  85\n",
      "Generatioin Number  86\n",
      "Generatioin Number  87\n",
      "Generatioin Number  88\n",
      "Generatioin Number  89\n",
      "Generatioin Number  90\n",
      "Generatioin Number  91\n",
      "Generatioin Number  92\n",
      "Generatioin Number  93\n",
      "Generatioin Number  94\n",
      "Generatioin Number  95\n",
      "Generatioin Number  96\n",
      "Generatioin Number  97\n",
      "Generatioin Number  98\n",
      "Generatioin Number  99\n"
     ]
    }
   ],
   "source": [
    "GA_exe = GA(POP_SIZE=400,CXPB=0.9,MUTPB=0.1,NGEN=100, stats=stats)"
   ]
  },
  {
   "cell_type": "code",
   "execution_count": 102,
   "metadata": {},
   "outputs": [],
   "source": [
    "#GA_exe[1]"
   ]
  },
  {
   "cell_type": "code",
   "execution_count": 103,
   "metadata": {},
   "outputs": [
    {
     "data": {
      "image/png": "[encoded data removed]",
      "text/plain": [
       "<Figure size 432x288 with 1 Axes>"
      ]
     },
     "metadata": {
      "needs_background": "light"
     },
     "output_type": "display_data"
    }
   ],
   "source": [
    "import matplotlib.pyplot as plt\n",
    "min_values = [GA_exe[1][i]['min'] for i in range(len(GA_exe[1]))]\n",
    "ngen = [i for i in range(len(GA_exe[1]))]\n",
    "\n",
    "fig = plt.plot(ngen, min_values)\n",
    "plt.show()"
   ]
  },
  {
   "cell_type": "code",
   "execution_count": 104,
   "metadata": {},
   "outputs": [
    {
     "name": "stdout",
     "output_type": "stream",
     "text": [
      "0.30000000000000004\n",
      "0.30016662039607267\n",
      "0.30016662039607267\n"
     ]
    }
   ],
   "source": [
    "import math\n",
    "print(math.dist([0.1,0.1],[0.4,0.1]))\n",
    "print(math.dist([0.25,0.36],[0.4,0.1]))\n",
    "print(math.dist([0.1,0.1],[0.25,0.36]))\n"
   ]
  },
  {
   "cell_type": "code",
   "execution_count": 105,
   "metadata": {},
   "outputs": [
    {
     "name": "stdout",
     "output_type": "stream",
     "text": [
      "[0.44542638937764784, 0.8597607715940213, 0.541203576874415, 0.4323189860363533, 0.3564068734762619, 0.1975933207769645, 0.5273714504213368, 0.24446262738579033, 0.5458792915866927, 0.3317958276452222, 0.47061178419372235, 0.8331240068845425, 0.6026792495597193, 0.17001813439775024, 0.5501629314359777, 0.7425111055825488]\n"
     ]
    }
   ],
   "source": [
    "# best point(s) found so far\n",
    "point = GA_exe[2][0]\n",
    "print(point)"
   ]
  },
  {
   "cell_type": "code",
   "execution_count": 106,
   "metadata": {},
   "outputs": [
    {
     "name": "stdout",
     "output_type": "stream",
     "text": [
      "before GA:\n"
     ]
    },
    {
     "data": {
      "image/png": "[encoded data removed]",
      "text/plain": [
       "<Figure size 432x288 with 1 Axes>"
      ]
     },
     "metadata": {
      "needs_background": "light"
     },
     "output_type": "display_data"
    },
    {
     "name": "stdout",
     "output_type": "stream",
     "text": [
      "the total cost of the tree before is =  1.6916414261723633\n",
      "\n",
      "after GA:\n"
     ]
    },
    {
     "data": {
      "image/png": "[encoded data removed]",
      "text/plain": [
       "<Figure size 432x288 with 1 Axes>"
      ]
     },
     "metadata": {
      "needs_background": "light"
     },
     "output_type": "display_data"
    },
    {
     "name": "stdout",
     "output_type": "stream",
     "text": [
      "the total cost of the tree is =  1.6865633356331333\n"
     ]
    }
   ],
   "source": [
    "print(\"before GA:\")\n",
    "connections_before = prim_alg(fixed_vertices)\n",
    "distances_before = grafo_new(connections_before)\n",
    "total_length_before = 0\n",
    "for i in distances_before:\n",
    "    total_length_before += i\n",
    "print(\"the total cost of the tree before is = \", total_length_before)\n",
    "\n",
    "\n",
    "print(\"\\nafter GA:\")\n",
    "\n",
    "steiner = ind_to_points(point)\n",
    "allpoints = steiner + fixed_vertices\n",
    "\n",
    "connections_after = prim_alg(allpoints)\n",
    "\n",
    "temp = []\n",
    "distances_after = []\n",
    "for i in connections_after:\n",
    "    temp.append([i[0],i[1]])\n",
    "    distances_after.append(i[2])\n",
    "\n",
    "for pair in temp:\n",
    "\n",
    "    plt.plot(*zip(*pair), \"ro-\", c = 'black')\n",
    "\n",
    "plt.plot(*zip(*fixed_vertices), 'o', c = 'black' )\n",
    "plt.axis(xmin=0, xmax=1, ymin=0, ymax=1)\n",
    "plt.plot(*zip(*steiner), 'o', c = 'red')\n",
    "plt.show()\n",
    "\n",
    "\n",
    "total_length_after = 0\n",
    "for i in distances_after:\n",
    "    total_length_after += i\n",
    "print(\"the total cost of the tree is = \", total_length_after)"
   ]
  },
  {
   "cell_type": "code",
   "execution_count": 107,
   "metadata": {},
   "outputs": [],
   "source": [
    "# opt_connections, last_steiner = opt_new(steiner, connections_after)\n",
    "#     \n",
    "# temp = []\n",
    "# distances_after = []\n",
    "# for i in opt_connections:\n",
    "#     temp.append([i[0],i[1]])\n",
    "#     distances_after.append(i[2])\n",
    "# \n",
    "# for pair in temp:\n",
    "#     plt.axis(xmin=0, xmax=1, ymin=0, ymax=1)\n",
    "#     plt.plot(*zip(*pair), \"ro-\")\n",
    "# plt.axis(xmin=0, xmax=1, ymin=0, ymax=1)\n",
    "# plt.plot(*zip(*fixed_vertices), 'o', c = 'g' )\n",
    "# plt.axis(xmin=0, xmax=1, ymin=0, ymax=1)\n",
    "# plt.plot(*zip(*steiner), 'o', c = 'orange')\n",
    "# plt.show()\n",
    "# \n",
    "# \n",
    "# total_length_after = 0\n",
    "# for i in distances_after:\n",
    "#     total_length_after += i\n",
    "# print(\"the total cost of the tree is = \", total_length_after)"
   ]
  },
  {
   "cell_type": "code",
   "execution_count": 108,
   "metadata": {},
   "outputs": [
    {
     "data": {
      "image/png": "[encoded data removed]",
      "text/plain": [
       "<Figure size 432x288 with 1 Axes>"
      ]
     },
     "metadata": {
      "needs_background": "light"
     },
     "output_type": "display_data"
    },
    {
     "name": "stdout",
     "output_type": "stream",
     "text": [
      "the total cost of the optimized tree is =  1.686563335632672\n"
     ]
    }
   ],
   "source": [
    "# new last cell\n",
    "opt_connections, opt_steiner = opt_new(steiner, connections_after)\n",
    "\n",
    "#grafo_new(opt_connections, opt_steiner)\n",
    "#print(opt_connections)\n",
    "\n",
    "temp = []\n",
    "distances_after = []\n",
    "for i in opt_connections:\n",
    "    temp.append([i[0],i[1]])\n",
    "    distances_after.append(i[2])\n",
    "for pair in temp:\n",
    "    plt.axis(xmin=0, xmax=1, ymin=0, ymax=1)\n",
    "    plt.plot(*zip(*pair), \"ro-\", c = 'black')\n",
    "plt.axis(xmin=0, xmax=1, ymin=0, ymax=1)\n",
    "plt.plot(*zip(*fixed_vertices), 'o', c = 'black' )\n",
    "plt.axis(xmin=0, xmax=1, ymin=0, ymax=1)\n",
    "plt.plot(*zip(*opt_steiner), 'o', c = 'red')\n",
    "plt.show()\n",
    "total_length_after = 0\n",
    "for i in distances_after:\n",
    "    total_length_after += i\n",
    "print(\"the total cost of the optimized tree is = \", total_length_after)"
   ]
  }
 ],
 "metadata": {
  "kernelspec": {
   "display_name": "Python 3.8.8 ('base')",
   "language": "python",
   "name": "python3"
  },
  "language_info": {
   "codemirror_mode": {
    "name": "ipython",
    "version": 3
   },
   "file_extension": ".py",
   "mimetype": "text/x-python",
   "name": "python",
   "nbconvert_exporter": "python",
   "pygments_lexer": "ipython3",
   "version": "3.8.8"
  },
  "orig_nbformat": 4,
  "vscode": {
   "interpreter": {
    "hash": "7895aeb1b0dc43b4320f02972d9282430c45f7448419bbaad22d9447f237ac68"
   }
  }
 },
 "nbformat": 4,
 "nbformat_minor": 2
}
